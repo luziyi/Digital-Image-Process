{
 "cells": [
  {
   "cell_type": "code",
   "execution_count": 3,
   "metadata": {},
   "outputs": [
    {
     "name": "stdout",
     "output_type": "stream",
     "text": [
      "Saved output_images\\0dd20243-8.jpg\n",
      "Saved output_images\\16bf9a67-0.jpg\n",
      "Saved output_images\\796ec187-7.jpg\n",
      "Saved output_images\\9a07eb57-6.jpg\n",
      "Saved output_images\\ad3956f8-9.jpg\n",
      "Saved output_images\\b2dd240c-2.jpg\n",
      "Saved output_images\\b71184b9-1.jpg\n",
      "Saved output_images\\c1c0fe3c-4.jpg\n",
      "Saved output_images\\d9a9c2fa-5.jpg\n",
      "Saved output_images\\e628b968-3.jpg\n"
     ]
    }
   ],
   "source": [
    "import os\n",
    "import cv2\n",
    "import numpy as np\n",
    "\n",
    "image_folder_1 = 'images'\n",
    "image_folder_2 = 'hog_images'\n",
    "image_folder_3 = 'detectResult/HOG'\n",
    "image_folder_4 = 'detectResult/Fast R-CNN'\n",
    "output_folder = 'output_images'\n",
    "\n",
    "# 创建输出文件夹\n",
    "if not os.path.exists(output_folder):\n",
    "    os.makedirs(output_folder)\n",
    "\n",
    "for image_filename in os.listdir(image_folder_1):\n",
    "    if image_filename.endswith('.jpg'):\n",
    "        image_path_1 = os.path.join(image_folder_1, image_filename)\n",
    "        image_path_2 = os.path.join(image_folder_2, image_filename)\n",
    "        image_path_3 = os.path.join(image_folder_3, image_filename)\n",
    "        image_path_4 = os.path.join(image_folder_4, image_filename)\n",
    "        \n",
    "        if os.path.exists(image_path_2) and os.path.exists(image_path_3) and os.path.exists(image_path_4):\n",
    "            image_1 = cv2.imread(image_path_1)\n",
    "            image_2 = cv2.imread(image_path_2)\n",
    "            image_3 = cv2.imread(image_path_3)\n",
    "            image_4 = cv2.imread(image_path_4)\n",
    "            \n",
    "            # 确保所有图像的大小相同\n",
    "            height, width = image_1.shape[:2]\n",
    "            image_2 = cv2.resize(image_2, (width, height))\n",
    "            image_3 = cv2.resize(image_3, (width, height))\n",
    "            image_4 = cv2.resize(image_4, (width, height))\n",
    "            \n",
    "            # 拼接图像\n",
    "            image = np.concatenate((image_1, image_2, image_3, image_4), axis=1)\n",
    "            \n",
    "            # 保存拼接后的图像\n",
    "            output_path = os.path.join(output_folder, image_filename)\n",
    "            cv2.imwrite(output_path, image)\n",
    "            print(f\"Saved {output_path}\")"
   ]
  }
 ],
 "metadata": {
  "kernelspec": {
   "display_name": "detectron2",
   "language": "python",
   "name": "python3"
  },
  "language_info": {
   "codemirror_mode": {
    "name": "ipython",
    "version": 3
   },
   "file_extension": ".py",
   "mimetype": "text/x-python",
   "name": "python",
   "nbconvert_exporter": "python",
   "pygments_lexer": "ipython3",
   "version": "3.8.20"
  }
 },
 "nbformat": 4,
 "nbformat_minor": 2
}
