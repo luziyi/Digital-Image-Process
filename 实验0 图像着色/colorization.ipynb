{
 "cells": [
  {
   "cell_type": "code",
   "execution_count": 6,
   "metadata": {},
   "outputs": [],
   "source": [
    "import sys\n",
    "import cv2\n",
    "import numpy as np\n",
    "from scipy import sparse\n",
    "from scipy.sparse.linalg import spsolve\n"
   ]
  },
  {
   "cell_type": "code",
   "execution_count": 7,
   "metadata": {},
   "outputs": [],
   "source": [
    "\n",
    "def pos2id(x, y, n, m):\n",
    "\treturn x * m + y\n",
    "\n",
    "def id2pos(id, n, m):\n",
    "\treturn id // m, id % m\n"
   ]
  },
  {
   "cell_type": "code",
   "execution_count": 8,
   "metadata": {},
   "outputs": [],
   "source": [
    "\n",
    "def nearby(x, y, n, m, d = 2):\n",
    "\tneighbour = []\n",
    "\tfor i in range(max(0, x - d), min(n, x + d + 1)):\n",
    "\t\tfor j in range(max(0, y - d), min(m, y + d + 1)):\n",
    "\t\t\tif (i != x) or (j != y):\n",
    "\t\t\t\tneighbour.append([i, j])\n",
    "\treturn neighbour\n"
   ]
  },
  {
   "cell_type": "code",
   "execution_count": 9,
   "metadata": {},
   "outputs": [],
   "source": [
    "\n",
    "def colorize(gray, sketch):\n",
    "\tn, m = gray.shape[0], gray.shape[1]\n",
    "\tsize = n * m\n",
    "\tcnt = 0\n",
    "\tW = sparse.lil_matrix((size, size), dtype = float)\n",
    "\tb1 = np.zeros(shape = (size))\n",
    "\tb2 = np.zeros(shape = (size))\n",
    "\t\n",
    "\tfor i in range(n):\n",
    "\t\tfor j in range(m):\n",
    "\t\t\tif sketch[i, j, 0] > 1 - 1e-3:\n",
    "\t\t\t\tid = pos2id(i, j, n, m)\n",
    "\t\t\t\tW[id, id] = 1\n",
    "\t\t\t\tb1[id] = gray[i, j, 1]\n",
    "\t\t\t\tb2[id] = gray[i, j, 2]\n",
    "\t\t\t\tcontinue\n",
    "\t\t\tif abs(gray[i, j, 0] - sketch[i, j, 0]) > 1e-2 or abs(gray[i, j, 1] - sketch[i, j, 1]) > 1e-2 or abs(gray[i, j, 2] - sketch[i, j, 2]) > 1e-2:\n",
    "\t\t\t\tid = pos2id(i, j, n, m)\n",
    "\t\t\t\tW[id, id] = 1\n",
    "\t\t\t\tb1[id] = sketch[i, j, 1]\n",
    "\t\t\t\tb2[id] = sketch[i, j, 2]\n",
    "\t\t\t\tcnt += 1\n",
    "\t\t\t\tcontinue\n",
    "\t\t\tY = gray[i, j, 0]\n",
    "\t\t\tid = pos2id(i, j, n, m)\n",
    "\t\t\tneighbour = nearby(i, j, n, m)\n",
    "\t\t\tYs = []\n",
    "\t\t\tids = []\n",
    "\t\t\tweights = []\n",
    "\t\t\tfor pos in neighbour:\n",
    "\t\t\t\tYs.append(gray[pos[0], pos[1], 0])\n",
    "\t\t\t\tids.append(pos2id(pos[0], pos[1], n, m))\n",
    "\t\t\tsigma = np.std(Ys)\n",
    "\t\t\tsum = 0.\n",
    "\t\t\tfor k in range(len(neighbour)):\n",
    "\t\t\t\tif sigma > 1e-3:\n",
    "\t\t\t\t\tw = np.exp(-1 * (Ys[k] - Y) * (Ys[k] - Y) / 2 / sigma / sigma)\n",
    "\t\t\t\t\tsum += w\n",
    "\t\t\t\t\tweights.append(w)\n",
    "\t\t\t\telse:\n",
    "\t\t\t\t\tsum += 1.\n",
    "\t\t\t\t\tweights.append(1.)\n",
    "\t\t\tfor k in range(len(neighbour)):\n",
    "\t\t\t\tweights[k] /= sum\n",
    "\t\t\t\tW[id, ids[k]] += -1 * weights[k]\n",
    "\t\t\t\t'''W[ids[k], id] += -1 * weights[k]\n",
    "\t\t\t\tW[ids[k], ids[k]] += weights[k] * weights[k]\n",
    "\t\t\t\tfor l in range(k):\n",
    "\t\t\t\t\tW[ids[k], ids[l]] += weights[k] * weights[l]\n",
    "\t\t\t\t\tW[ids[l], ids[k]] += weights[k] * weights[l]'''\n",
    "\t\t\tW[id, id] += 1.\n",
    "\t\n",
    "\tprint(cnt)\n",
    "\toutput = np.zeros(shape = (n, m, 3))\n",
    "\toutput[:, :, 0] = gray[:, :, 0]\n",
    "\t\t\t\t\n",
    "\tW = W.tocsc()\n",
    "\t#print(W)\n",
    "\t\n",
    "\tu = spsolve(W, b1)\n",
    "\tv = spsolve(W, b2)\n",
    "\tfor i in range(n):\n",
    "\t\tfor j in range(m):\n",
    "\t\t\tid = pos2id(i, j, n, m)\n",
    "\t\t\toutput[i, j, 1], output[i, j, 2] = u[id], v[id]\n",
    "\treturn output\n"
   ]
  },
  {
   "cell_type": "code",
   "execution_count": 11,
   "metadata": {},
   "outputs": [
    {
     "name": "stdout",
     "output_type": "stream",
     "text": [
      "17405\n"
     ]
    },
    {
     "data": {
      "text/plain": [
       "True"
      ]
     },
     "execution_count": 11,
     "metadata": {},
     "output_type": "execute_result"
    }
   ],
   "source": [
    "origin_img_path = \"./data/origin/example.png\"\n",
    "sketch_img_path = \"./data/sketch/example.png\"\n",
    "result_img_path = \"./example.png\"\n",
    "\n",
    "\n",
    "gray = cv2.imread(origin_img_path)\n",
    "sketch = cv2.imread(sketch_img_path)\n",
    "\n",
    "\n",
    "assert gray.shape == sketch.shape, \"The two images should share the same size.\"\n",
    "\n",
    "gray = cv2.cvtColor(gray, cv2.COLOR_BGR2YUV)\n",
    "sketch = cv2.cvtColor(sketch, cv2.COLOR_BGR2YUV)\n",
    "\n",
    "gray = gray / 255.0\n",
    "sketch = sketch / 255.0\n",
    "\n",
    "output = colorize(gray, sketch)\n",
    "output = (np.clip(output, 0., 1.) * 255).astype(np.uint8)\n",
    "\n",
    "output = cv2.cvtColor(output, cv2.COLOR_YUV2BGR)\n",
    "cv2.imwrite(result_img_path, output)\n"
   ]
  }
 ],
 "metadata": {
  "kernelspec": {
   "display_name": "DIP",
   "language": "python",
   "name": "python3"
  },
  "language_info": {
   "codemirror_mode": {
    "name": "ipython",
    "version": 3
   },
   "file_extension": ".py",
   "mimetype": "text/x-python",
   "name": "python",
   "nbconvert_exporter": "python",
   "pygments_lexer": "ipython3",
   "version": "3.10.15"
  }
 },
 "nbformat": 4,
 "nbformat_minor": 2
}
